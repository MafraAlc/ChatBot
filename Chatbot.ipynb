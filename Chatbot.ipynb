{
 "cells": [
  {
   "cell_type": "code",
   "execution_count": 3,
   "id": "85e0f8f3",
   "metadata": {},
   "outputs": [
    {
     "name": "stdout",
     "output_type": "stream",
     "text": [
      "✔ Download and installation successful\n",
      "You can now load the package via spacy.load('en_core_web_sm')\n"
     ]
    }
   ],
   "source": [
    "from chatterbot import ChatBot\n",
    "from chatterbot.trainers import ListTrainer\n",
    "# isso aqui só precisa para corrigir o bug\n",
    "from spacy.cli import download\n",
    "\n",
    "download(\"en_core_web_sm\")\n",
    "\n",
    "class ENGSM:\n",
    "    ISO_639_1 = 'en_core_web_sm'"
   ]
  },
  {
   "cell_type": "code",
   "execution_count": 4,
   "id": "6c075558",
   "metadata": {},
   "outputs": [
    {
     "name": "stdout",
     "output_type": "stream",
     "text": [
      "List Trainer: [####################] 100%\n"
     ]
    }
   ],
   "source": [
    "chatbot = ChatBot(\"BotDavi\", tagger_language=ENGSM)\n",
    "\n",
    "conversa = [\n",
    "    \"Ola\",\n",
    "    \"Bom dia, como posso ajudar?\",\n",
    "    \"Gostaria de ajuda com um boleto\",\n",
    "    \"Isso voce resolve entrando em contato com o banco\",\n",
    "    \"Muito obrigado\",\n",
    "]\n",
    "\n",
    "trainer = ListTrainer(chatbot)\n",
    "trainer.train(conversa)"
   ]
  },
  {
   "cell_type": "code",
   "execution_count": 5,
   "id": "fdfc3f17",
   "metadata": {},
   "outputs": [
    {
     "data": {
      "text/plain": [
       "<Statement text:Bom dia, como posso ajudar?>"
      ]
     },
     "execution_count": 5,
     "metadata": {},
     "output_type": "execute_result"
    }
   ],
   "source": [
    "chatbot.get_response(\"Ola\")"
   ]
  },
  {
   "cell_type": "code",
   "execution_count": 6,
   "id": "0c1a6249",
   "metadata": {},
   "outputs": [
    {
     "data": {
      "text/plain": [
       "<Statement text:Isso voce resolve entrando em contato com o banco>"
      ]
     },
     "execution_count": 6,
     "metadata": {},
     "output_type": "execute_result"
    }
   ],
   "source": [
    "chatbot.get_response(\"Gostaria de ajuda com um boleto\")"
   ]
  },
  {
   "cell_type": "code",
   "execution_count": 7,
   "id": "9500e822",
   "metadata": {},
   "outputs": [
    {
     "data": {
      "text/plain": [
       "<Statement text:Isso voce resolve entrando em contato com o banco>"
      ]
     },
     "execution_count": 7,
     "metadata": {},
     "output_type": "execute_result"
    }
   ],
   "source": [
    "while True:\n",
    "    resposta = chatbot.get_response(input(\"Mande uma mensagem para o chatbot: \"))\n",
    "    if mensagem == \"parar\":\n",
    "        break\n",
    "    resposta = chatbot.get_response(mensagem)\n",
    "    print(resposta)\n",
    "\n",
    "\n",
    "chatbot.get_response(\"boleto\")"
   ]
  },
  {
   "cell_type": "code",
   "execution_count": null,
   "id": "2eefff9d",
   "metadata": {},
   "outputs": [],
   "source": []
  }
 ],
 "metadata": {
  "kernelspec": {
   "display_name": "Python 3 (ipykernel)",
   "language": "python",
   "name": "python3"
  },
  "language_info": {
   "codemirror_mode": {
    "name": "ipython",
    "version": 3
   },
   "file_extension": ".py",
   "mimetype": "text/x-python",
   "name": "python",
   "nbconvert_exporter": "python",
   "pygments_lexer": "ipython3",
   "version": "3.9.13"
  }
 },
 "nbformat": 4,
 "nbformat_minor": 5
}
